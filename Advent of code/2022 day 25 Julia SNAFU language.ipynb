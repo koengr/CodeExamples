{
 "cells": [
  {
   "attachments": {},
   "cell_type": "markdown",
   "metadata": {},
   "source": [
    "# Advent of Code 2022, Day 25: SNAFU numbers"
   ]
  },
  {
   "cell_type": "code",
   "execution_count": 280,
   "metadata": {},
   "outputs": [],
   "source": [
    "#= \n",
    "\n",
    "Step 1: Read the input, store it in 'lines'\n",
    "\n",
    "=#\n",
    "\n",
    "filename = \"input24.txt\"\n",
    "\n",
    "\n",
    "f = open(filename, \"r\")\n",
    "lines = readlines(f)\n",
    "close(f)"
   ]
  },
  {
   "cell_type": "code",
   "execution_count": 281,
   "metadata": {},
   "outputs": [
    {
     "name": "stdout",
     "output_type": "stream",
     "text": [
      "36251175625102\n"
     ]
    }
   ],
   "source": [
    "#= \n",
    "\n",
    "Step 2: Convert SNAFU to decimal and vice-versa. \n",
    "\n",
    "=#\n",
    "\n",
    "function SNAFUtoDecimal(string::String)\n",
    "    SNAFUDict = Dict('0' => 0, '1' => 1, '2' => 2, '-' => -1, '=' => -2)\n",
    "\n",
    "    number = 0::Int\n",
    "    len = length(string)\n",
    "    for i=0:len-1\n",
    "        digit = SNAFUDict[string[end-i]]\n",
    "        number = number + 5^i * digit\n",
    "    end \n",
    "    return number\n",
    "end\n",
    "\n",
    "#= \n",
    "\n",
    "We read all the input numbers and add them together. \n",
    "\n",
    "=#\n",
    "\n",
    "counter = 0\n",
    "for l in 1:length(lines)\n",
    "    counter += SNAFUtoDecimal(lines[l])\n",
    "end\n",
    "\n",
    "# We find that the sum of all the given SNAFU numbers is: \n",
    "println(counter)"
   ]
  },
  {
   "cell_type": "code",
   "execution_count": 284,
   "metadata": {},
   "outputs": [
    {
     "name": "stdout",
     "output_type": "stream",
     "text": [
      "00020===-20-020=0001-02\n",
      "36251175625102\n"
     ]
    }
   ],
   "source": [
    "#= \n",
    "\n",
    "Step 3: convert the sum back to SNAFU. \n",
    "\n",
    "Now, actually most code is needed to turn this (decimal) SUM back into a SNAFU number. We do this in 3 steps: \n",
    "\n",
    "1. determine the number of snafu digits\n",
    "2. rewrite the number in 5-ary  \n",
    "3. Take the 5-ary number, and from the least significant digit onwards, \n",
    "    follor ReplacementRules (3 -> =, 4 -> -, 5-> 0), while keeping track of a potential carry.\n",
    "\n",
    "\n",
    "=#\n",
    "\n",
    "# Write a decimal number in 5-ary. \n",
    "function decimalToFiveary( decimal )\n",
    "\n",
    "    # Determine the number of SNAFU digits needed. \n",
    "    num_digits = ceil( Int, log(decimal)/log(5) ) + 2 # With built-in safety for overflow. \n",
    "\n",
    "    # Create empty array of given length\n",
    "    digitlist = fill(0, num_digits) \n",
    "\n",
    "    # Fill the 5-ary digits:\n",
    "    for j in 1:num_digits\n",
    "        basenum = 5^(num_digits - j)\n",
    "        digitlist[j] = floor( Int, decimal / basenum )\n",
    "        decimal = decimal - digitlist[j] * basenum  \n",
    "    end\n",
    "\n",
    "    return digitlist\n",
    "end\n",
    "\n",
    "# Replacement rules for five-ary number to SNAFU.\n",
    "# When replacing a number, we account for a CARRY (to increment the next most significant number)\n",
    "# Return value is [Carry, SNAFU digit]\n",
    "function replacementRules( digit )\n",
    "    if digit == 5\n",
    "        return [1, '0']\n",
    "    elseif digit == 4 \n",
    "        return [1, '-']\n",
    "    elseif digit == 3\n",
    "        return [1, '=']\n",
    "    elseif digit > 5 || digit < 0  # Value of 5 should be accepted (due to carry), higher than 5 shouldn't occur. \n",
    "        throw(DomainError(\"Error in function replacementRules: digit not in range 0..5\"))\n",
    "    else \n",
    "        return [0, Char('0' + digit)]  # The latter creates a 'char' of the given number. \n",
    "    end\n",
    "end\n",
    "\n",
    "\n",
    "# Turn a five-ary number into a SNAFU number. \n",
    "function fivearyToSNAFU( digitlist )\n",
    "    len = length(digitlist)\n",
    "    SNAFUlist = Array{Any}(nothing, len+1) # Make an array that can hold anything\n",
    "    SNAFUlist[1] = 0\n",
    "    SNAFUlist[2:end] =  digitlist \n",
    "\n",
    "    # For all digits (running right-to-left), perform the substitution\n",
    "    for j in len+1:-1:2\n",
    "        repl = replacementRules( SNAFUlist[j] )\n",
    "        SNAFUlist[j] = repl[2]\n",
    "        SNAFUlist[j-1] += repl[1] \n",
    "    end\n",
    "    \n",
    "    # Special treatment of most significant digit: turn into char.\n",
    "    SNAFUlist[1] = replacementRules(SNAFUlist[1])[2]\n",
    "\n",
    "    return SNAFUlist\n",
    "end\n",
    "\n",
    "# Turn a decimal number into a SNAFU number. \n",
    "function decimalToSNAFU( decimal )\n",
    "    fiveary = decimalToFiveary( decimal )\n",
    "    return join( fivearyToSNAFU( fiveary ) ) # Join chars together to form a proper String. \n",
    "end\n",
    "\n",
    "\n",
    "#= \n",
    "\n",
    "Okay, let's see what SNAFU number we get?\n",
    "\n",
    "=# \n",
    "println( decimalToSNAFU( counter ))\n",
    "\n",
    "# We can re-convert this number back into decimal, to convince ourselves that no mistakes were made. \n",
    "println( SNAFUtoDecimal(\"20===-20-020=0001-02\"))\n"
   ]
  }
 ],
 "metadata": {
  "kernelspec": {
   "display_name": "Julia 1.8.3",
   "language": "julia",
   "name": "julia-1.8"
  },
  "language_info": {
   "file_extension": ".jl",
   "mimetype": "application/julia",
   "name": "julia",
   "version": "1.8.3"
  },
  "orig_nbformat": 4,
  "vscode": {
   "interpreter": {
    "hash": "31f2aee4e71d21fbe5cf8b01ff0e069b9275f58929596ceb00d14d90e3e16cd6"
   }
  }
 },
 "nbformat": 4,
 "nbformat_minor": 2
}
