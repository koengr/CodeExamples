{
 "cells": [
  {
   "attachments": {},
   "cell_type": "markdown",
   "metadata": {},
   "source": [
    "# Advent of Code 2022, Day 8: Treetop Tree House\n",
    "\n",
    "See https://adventofcode.com/2022/day/8 for details.\n",
    "\n"
   ]
  },
  {
   "cell_type": "code",
   "execution_count": 1,
   "metadata": {},
   "outputs": [],
   "source": [
    "import numpy as np"
   ]
  },
  {
   "attachments": {},
   "cell_type": "markdown",
   "metadata": {},
   "source": [
    "Step 1: A not-so-optimal attempt, which is improved later"
   ]
  },
  {
   "cell_type": "code",
   "execution_count": 4,
   "metadata": {},
   "outputs": [],
   "source": [
    "# Check which trees are visible\n",
    "# Strategy: for each row, we move L->R, storing the largest number. \n",
    "\n",
    "def minimum_visibility( tree_array ):\n",
    "    dims = tree_array.shape\n",
    "    lookleft = np.full(shape=dims, fill_value = -1)\n",
    "    lookright = np.full(shape=dims, fill_value = -1)\n",
    "    lookup = np.full(shape=dims, fill_value = -1)\n",
    "    lookdown = np.full(shape=dims, fill_value = -1)\n",
    "\n",
    "    for x in range(dims[0]):\n",
    "        lowleft = 0\n",
    "        lowright = 0\n",
    "        for y in range(dims[1]):\n",
    "            lookleft[x,y] = lowleft\n",
    "            lookright[x,-y-1] = lowright\n",
    "            lowleft = max(lowleft, tree_array[x,y])\n",
    "            lowright = max(lowright, tree_array[x,-y-1])\n",
    "\n",
    "    for y in range(dims[1]):\n",
    "        lowup = 0\n",
    "        lowdown = 0\n",
    "        for x in range(dims[0]):\n",
    "            lookup[x,y] = lowup\n",
    "            lookdown[-x-1,y] = lowdown\n",
    "            lowup = max(lowup, tree_array[x,y])\n",
    "            lowdown = max(lowdown, tree_array[-x-1,y])\n",
    "\n",
    "    # Write down the lowest a tree that would be invisible at location x,y, \n",
    "    # by taking the minimum of all three look matrices\n",
    "    minvis = np.full(shape=dims, fill_value = -1)\n",
    "    for x in range(dims[0]):\n",
    "        for y in range(dims[1]):\n",
    "            minvis[x,y] = min( [lookup[x,y], lookdown[x,y], lookleft[x,y], lookright[x,y] ] )\n",
    "\n",
    "    return (minvis)\n",
    "\n",
    "def number_of_visible_trees( minvis, tree_array ):\n",
    "    # now check if the given height is HIGHER than minvis:\n",
    "    dims = tree_array.shape\n",
    "\n",
    "    trees_visible = np.full(shape=dims, fill_value = -1)\n",
    "    for x in range(dims[0]):\n",
    "        for y in range(dims[1]):\n",
    "            trees_visible[x,y] = ( minvis[x,y] == 0 or minvis[x,y] < tree_array[x,y] )\n",
    "\n",
    "    num_vis =  np.count_nonzero(trees_visible)\n",
    "\n",
    "    return(num_vis, trees_visible)\n"
   ]
  },
  {
   "cell_type": "code",
   "execution_count": 5,
   "metadata": {},
   "outputs": [
    {
     "name": "stdout",
     "output_type": "stream",
     "text": [
      "number of visble trees 21\n",
      "invisible:  4\n"
     ]
    }
   ],
   "source": [
    "# Reading the data: \n",
    "f = open('input8test.txt')\n",
    "tree_array = []\n",
    "for row in f:\n",
    "    row = row.strip('\\n')\n",
    "    row = [ int(j) for j in row ]\n",
    "    tree_array.append(list(row))\n",
    "tree_array = np.array( tree_array )\n",
    "\n",
    "\n",
    "minvis = minimum_visibility( tree_array )\n",
    "(num_vis, trees_visible) = number_of_visible_trees( minvis, tree_array )\n",
    "print('number of visble trees', num_vis)\n",
    "print(\"invisible: \", tree_array.shape[0] * tree_array.shape[1] - num_vis )\n",
    "\n",
    "    "
   ]
  },
  {
   "attachments": {},
   "cell_type": "markdown",
   "metadata": {},
   "source": [
    "Step 2: a much better attempt to solve the first challenge."
   ]
  },
  {
   "cell_type": "code",
   "execution_count": 6,
   "metadata": {},
   "outputs": [
    {
     "data": {
      "text/plain": [
       "array([[2, 2, 2, ..., 0, 4, 0],\n",
       "       [1, 1, 0, ..., 0, 0, 1],\n",
       "       [1, 3, 0, ..., 0, 3, 3],\n",
       "       ...,\n",
       "       [0, 3, 0, ..., 0, 0, 2],\n",
       "       [4, 0, 4, ..., 4, 3, 0],\n",
       "       [3, 2, 4, ..., 1, 3, 2]])"
      ]
     },
     "execution_count": 6,
     "metadata": {},
     "output_type": "execute_result"
    }
   ],
   "source": [
    "# Method 2: we simply do a brute-force counting from each position. \n",
    "# Reading the data: \n",
    "\n",
    "def check_if_visible( x, y, tree_array, dims ):\n",
    "    if x == 0 or x == dims[0]-1 : \n",
    "        return 1\n",
    "    if y == 0 or y == dims[1]-1 :\n",
    "        return 1\n",
    "    \n",
    "    # check on top\n",
    "    #print(\"checking TOP \", x, ' ', y, ' ', tree_array[x,y], ' ', tree_array[0:x, y] )\n",
    "    if np.max( tree_array[0:x, y] ) < tree_array[x,y] :\n",
    "        return 1\n",
    "    # check on bottom\n",
    "    if np.max( tree_array[x+1:, y] ) < tree_array[x,y] :\n",
    "        return 1\n",
    "    # check the left\n",
    "    if np.max( tree_array[x, 0:y] ) < tree_array[x,y] :\n",
    "        return 1\n",
    "    # check the right\n",
    "    #print(\"checking RIGHT \", x, ' ', y, ' ',  tree_array[x,y], ' ',  tree_array[x, y+1:] )\n",
    "    if np.max( tree_array[x, y+1:] ) < tree_array[x,y] :\n",
    "        return 1\n",
    "\n",
    "    return 0\n",
    "    \n",
    "\n",
    "\n",
    "f = open('input8.txt')\n",
    "tree_array = []\n",
    "for row in f:\n",
    "    row = row.strip('\\n')\n",
    "    row = [ int(j) for j in row ]\n",
    "    tree_array.append(list(row))\n",
    "tree_array = np.array( tree_array )\n",
    "\n",
    "\n",
    "tree_array"
   ]
  },
  {
   "cell_type": "code",
   "execution_count": 7,
   "metadata": {},
   "outputs": [
    {
     "name": "stdout",
     "output_type": "stream",
     "text": [
      "1533\n"
     ]
    }
   ],
   "source": [
    "dims = tree_array.shape\n",
    "counter = 0\n",
    "for x in range(dims[0]):\n",
    "    for y in range(dims[1]):\n",
    "        if check_if_visible( x, y, tree_array, dims ):\n",
    "            counter += 1 \n",
    "\n",
    "print(counter)\n"
   ]
  },
  {
   "cell_type": "code",
   "execution_count": null,
   "metadata": {},
   "outputs": [],
   "source": [
    "\n",
    "    "
   ]
  },
  {
   "attachments": {},
   "cell_type": "markdown",
   "metadata": {},
   "source": [
    "## Part 2: Viewing distance"
   ]
  },
  {
   "cell_type": "code",
   "execution_count": 9,
   "metadata": {},
   "outputs": [
    {
     "name": "stdout",
     "output_type": "stream",
     "text": [
      "best scenic score:  345744\n",
      "[1 4 2 5 3 4 5 0 5 5 2 4 5 1 0 4 4 0 0 4 2 0 3 1 3 5 0 2 4 2 1 6 2 6 3 4 4\n",
      " 7 2 2 7 1 5 5 7 0 4 6 0 5 5 4 4 4 2 3 1 1 0 5 4 7 2 3 5 2 5 6 1 4 2 4 4 4\n",
      " 0 0 4 2 0 4 4 5 4 1 2 0 3 3 1 4 2 1 0 4 4]\n",
      "4\n"
     ]
    },
    {
     "data": {
      "text/plain": [
       "30"
      ]
     },
     "execution_count": 9,
     "metadata": {},
     "output_type": "execute_result"
    }
   ],
   "source": [
    "def view_distance_in_list( lst, current ):\n",
    "    # determine viewing distance, given a lst of trees, assuming viewer is at height 'current'\n",
    "    counter = 0\n",
    "    for j in lst: \n",
    "        counter += 1\n",
    "        if current <= j :\n",
    "            break\n",
    "    return(counter)\n",
    "\n",
    "\n",
    "\n",
    "def get_scenic_score( x, y, tree_array ):\n",
    "    dims = tree_array.shape\n",
    "    current = tree_array[x,y]\n",
    "    if x == 0 or x == dims[0]-1 : \n",
    "        return 0\n",
    "    if y == 0 or y == dims[1]-1 :\n",
    "        return 0\n",
    "\n",
    "    # check on top\n",
    "    toplist = np.flip( tree_array[0:x, y] )\n",
    "    topscore = view_distance_in_list( toplist, current )\n",
    "    #print(topscore)\n",
    "\n",
    "    # check on bottom\n",
    "    botlist = tree_array[x+1:, y]\n",
    "    botscore = view_distance_in_list( botlist, current )\n",
    "    #print(botscore)\n",
    "\n",
    "    # check the left\n",
    "    leftlist = np.flip( tree_array[x, 0:y] )\n",
    "    leftscore = view_distance_in_list( leftlist, current )\n",
    "\n",
    "    # check the right\n",
    "    rightlist =  tree_array[x, y+1:]\n",
    "    rightscore = view_distance_in_list( rightlist, current )\n",
    "\n",
    "    return topscore * botscore * leftscore * rightscore\n",
    "\n",
    "def get_max_scenic_score( tree_array ):\n",
    "    dims = tree_array.shape\n",
    "    max_found = -1\n",
    "    for x in range(dims[0]):\n",
    "        for y in range(dims[1]):\n",
    "            score = get_scenic_score( x, y, tree_array)\n",
    "            if score > max_found :\n",
    "                max_found = score\n",
    "\n",
    "    return max_found\n",
    "    \n",
    "\n",
    "\n",
    "f = open('input8.txt')\n",
    "tree_array = []\n",
    "for row in f:\n",
    "    row = row.strip('\\n')\n",
    "    row = [ int(j) for j in row ]\n",
    "    tree_array.append(list(row))\n",
    "tree_array = np.array( tree_array )\n",
    "\n",
    "print(\"best scenic score: \", get_max_scenic_score(tree_array) )\n",
    "\n",
    "x = 3\n",
    "y = 2\n",
    "print( tree_array[x+1:, y] )\n",
    "print( tree_array[x,y])\n",
    "get_scenic_score( 3,2, tree_array )"
   ]
  }
 ],
 "metadata": {
  "kernelspec": {
   "display_name": "Python 3",
   "language": "python",
   "name": "python3"
  },
  "language_info": {
   "codemirror_mode": {
    "name": "ipython",
    "version": 3
   },
   "file_extension": ".py",
   "mimetype": "text/x-python",
   "name": "python",
   "nbconvert_exporter": "python",
   "pygments_lexer": "ipython3",
   "version": "3.8.2"
  },
  "orig_nbformat": 4,
  "vscode": {
   "interpreter": {
    "hash": "570feb405e2e27c949193ac68f46852414290d515b0ba6e5d90d076ed2284471"
   }
  }
 },
 "nbformat": 4,
 "nbformat_minor": 2
}
