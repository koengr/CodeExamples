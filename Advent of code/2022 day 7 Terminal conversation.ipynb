{
 "cells": [
  {
   "attachments": {},
   "cell_type": "markdown",
   "metadata": {},
   "source": [
    "## Advent of Code 2022, Day 7\n",
    "\n",
    "This code essentially reads a \"conversation in terminal\", and builds the tree of folders/files. My approach uses many recursive functions.\n",
    "\n",
    "For detailed information, see: https://adventofcode.com/2022/day/7\n",
    "\n",
    "Koen Groenland, Dec. 2022"
   ]
  },
  {
   "cell_type": "code",
   "execution_count": 23,
   "metadata": {},
   "outputs": [],
   "source": [
    "MAXSIZE = 100000            # Part one: Maximum directory size to be eligible for deletion. \n",
    "NEED_TO_DELETE = 8381165    # Part two: Find smallest directory with at least this size. \n",
    "\n",
    "\n",
    "# The directory object can contain files and subdirectories. \n",
    "# New directories can be nested inside a directory within 'subdirs', forming a tree \n",
    "class directory :\n",
    "\n",
    "    def __init__(self, name, parent ):\n",
    "        self.parent = parent\n",
    "        self.name = name\n",
    "        self.subdirs = {}\n",
    "        self.files = {}\n",
    "        self.size = 0\n",
    "        self.size_incl_subdirs = -1         # filled later\n",
    "        self.total_maxsize_subdirs = -1     # filled later\n",
    "        self.best_for_deletion = None         # filled later\n",
    "\n",
    "\n",
    "    # Add a new directory by name (creates the directory on the spot)\n",
    "    def add_dir( self, new_dir_name ):\n",
    "        if new_dir_name not in self.subdirs :\n",
    "            self.subdirs[new_dir_name] = directory(new_dir_name, self)\n",
    "\n",
    "\n",
    "\n",
    "    # Add a file, which si a tuple (filesize, filename)\n",
    "    def add_contents(self, filetuple ):\n",
    "        if filetuple[1] not in self.files :\n",
    "            self.files[filetuple[1]] = int(filetuple[0])\n",
    "        self.size += int(filetuple[0])\n",
    "\n",
    "    # Pretty print the whole tree, incl indent\n",
    "    def print(self, indent = 0):\n",
    "        print(\" \" * (3*indent) + '- ' + self.name, \" (dir, \", self.size_incl_subdirs, \")\" )\n",
    "        print(self.files)\n",
    "\n",
    "        for subdir in self.subdirs.items():\n",
    "            subdir[1].print(indent=indent+1)\n",
    "\n",
    "    # Recursively request subdirs to calculate their inclusive size. \n",
    "    # At the same time, collect the TOTAL SIZE of all subdirs that satisfy ( size_incl_subdirs < MAXSIZE )\n",
    "    # Make sure to double-count if the parent also qualifies! \n",
    "    def set_sizes_incl_subdirs(self):\n",
    "\n",
    "        self.total_maxsize_subdirs = 0\n",
    "        self.size_incl_subdirs = self.size\n",
    "\n",
    "        for subdir in self.subdirs.items():\n",
    "            subdir[1].set_sizes_incl_subdirs()\n",
    "            self.size_incl_subdirs += subdir[1].size_incl_subdirs\n",
    "\n",
    "            # Transfer the total of MAXSIZE eligible:\n",
    "            self.total_maxsize_subdirs += subdir[1].total_maxsize_subdirs\n",
    "\n",
    "\n",
    "        # When this is done, check if the directory ITSELF still qualifies? \n",
    "        if(self.size_incl_subdirs < MAXSIZE ):\n",
    "            self.total_maxsize_subdirs += self.size_incl_subdirs\n",
    "\n",
    "\n",
    "    # Recusively request subdirs to set the \"best for deletion\" variable.\n",
    "    # This is defined as the SMALLEST directory with at least size NEED_TO_DELETE\n",
    "    def set_best_for_deletion(self):\n",
    "\n",
    "        # Make sure all sizes are filled\n",
    "        self.set_sizes_incl_subdirs()\n",
    "\n",
    "        # Is this directory itself a good candiate?\n",
    "        # If this directory is too small, we don't have to worry about subdirs. End the function. \n",
    "\n",
    "        if self.size_incl_subdirs >= NEED_TO_DELETE :\n",
    "            self.best_for_deletion = self.size_incl_subdirs\n",
    "\n",
    "        else : \n",
    "            return None\n",
    "\n",
    "        # This directory is big enough? Then see if any of the subdirs are better?\n",
    "        for subdir in self.subdirs.items():            \n",
    "            subdir[1].set_best_for_deletion()\n",
    "            b = subdir[1].best_for_deletion\n",
    "\n",
    "            if (b is not None) and (b < self.best_for_deletion) :\n",
    "                self.best_for_deletion = b\n",
    "\n",
    "                \n",
    "        \n",
    "\n",
    "\n",
    "\n",
    "# Parse all lines of code, expanding the Directory object. \n",
    "def parse_lines( lines, rootdir ):\n",
    "    \n",
    "    currentdir = rootdir\n",
    "\n",
    "    for l in lines:\n",
    "\n",
    "#        print(\" at line \", l , \" we have: \")\n",
    "#        rootdir.print()\n",
    "\n",
    "        # check the type of line\n",
    "        if l[0] == '$' :  # Deal with COMMAND\n",
    "\n",
    "            if l[2] == 'c':\n",
    "                # Change Directory command. Set current dir. Assume new directory has been seen before\n",
    "                if l[5] == '/' : \n",
    "                    currentdir = rootdir\n",
    "                elif l[5] == '.':\n",
    "                    currentdir = currentdir.parent\n",
    "                else :\n",
    "                    newdirname = l.strip()[5:]\n",
    "                    currentdir = currentdir.subdirs[newdirname]\n",
    "\n",
    "            elif l[2] == 'l':\n",
    "                # add info the the new dir! All folllowing lines are added to currentdir\n",
    "                None\n",
    "\n",
    "        elif l[0] == 'd': # reading new directory\n",
    "            currentdir.add_dir(l.strip()[4:])\n",
    "\n",
    "        elif l[0].isnumeric() : # adding a file\n",
    "            filetuple = l.strip().split(\" \")\n",
    "#            print(\"filetuple: \", filetuple)\n",
    "            currentdir.add_contents(filetuple)\n",
    "\n",
    "    return rootdir\n",
    "            \n",
    "\n",
    "    \n",
    "        \n"
   ]
  },
  {
   "cell_type": "code",
   "execution_count": 26,
   "metadata": {},
   "outputs": [],
   "source": [
    "rootdir.best_for_deletion"
   ]
  },
  {
   "cell_type": "code",
   "execution_count": 29,
   "metadata": {},
   "outputs": [
    {
     "name": "stdout",
     "output_type": "stream",
     "text": [
      "Rootdir total size:  48690120\n",
      "Rootdir sub-MAXSIZE total 1348005\n"
     ]
    }
   ],
   "source": [
    "''' MAIN FUNCTIONS '''\n",
    "\n",
    "filename = 'input7.txt'\n",
    "file = open(filename)\n",
    "lines = file.readlines()\n",
    "file.close()\n",
    "\n",
    "# Start by making the root directory \n",
    "rootdir = directory(\"the root\", \"root\")\n",
    "parse_lines(lines, rootdir) # pass by reference\n",
    "rootdir.set_sizes_incl_subdirs()\n",
    "\n",
    "print(\"Rootdir total size: \", rootdir.size_incl_subdirs)\n",
    "print(\"Rootdir sub-MAXSIZE total\", rootdir.total_maxsize_subdirs)\n",
    "\n",
    "\n",
    "\n",
    "\n",
    "\n"
   ]
  },
  {
   "cell_type": "code",
   "execution_count": 30,
   "metadata": {},
   "outputs": [
    {
     "name": "stdout",
     "output_type": "stream",
     "text": [
      "Best for deletion  12785886\n"
     ]
    }
   ],
   "source": [
    "'''\n",
    "Part 2\n",
    "'''\n",
    "\n",
    "rootdir.set_best_for_deletion()\n",
    "print(\"Best for deletion \", rootdir.best_for_deletion )"
   ]
  },
  {
   "cell_type": "code",
   "execution_count": null,
   "metadata": {},
   "outputs": [],
   "source": []
  }
 ],
 "metadata": {
  "kernelspec": {
   "display_name": "Python 3",
   "language": "python",
   "name": "python3"
  },
  "language_info": {
   "codemirror_mode": {
    "name": "ipython",
    "version": 3
   },
   "file_extension": ".py",
   "mimetype": "text/x-python",
   "name": "python",
   "nbconvert_exporter": "python",
   "pygments_lexer": "ipython3",
   "version": "3.9.12 (main, Apr 30 2022, 21:12:07)  [GCC 11.3.0 64 bit (AMD64)]"
  },
  "orig_nbformat": 4,
  "vscode": {
   "interpreter": {
    "hash": "c56527485b7c9dd36c8c8808345694ae9d0a642c0f00dfb6356f9a65494ceb50"
   }
  }
 },
 "nbformat": 4,
 "nbformat_minor": 2
}
